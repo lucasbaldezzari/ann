{
 "cells": [
  {
   "cell_type": "markdown",
   "metadata": {},
   "source": [
    "# Clasificando latídos cardíacos\n",
    "\n",
    "https://www.kaggle.com/datasets/shayanfazeli/heartbeat/code\n",
    "\n",
    "Frecuencia de muestreo: $360 \\frac{muestras}{segundo}$"
   ]
  },
  {
   "cell_type": "markdown",
   "metadata": {},
   "source": [
    "Descomentar y ejecutar la siguiente celda para descargar el set de datos"
   ]
  },
  {
   "cell_type": "code",
   "execution_count": 1,
   "metadata": {},
   "outputs": [],
   "source": [
    "# import kagglehub\n",
    "\n",
    "# # Download latest version\n",
    "# path = kagglehub.dataset_download(\"shayanfazeli/heartbeat\")\n",
    "\n",
    "# print(\"Path to dataset files:\", path)"
   ]
  },
  {
   "cell_type": "code",
   "execution_count": 2,
   "metadata": {},
   "outputs": [],
   "source": [
    "import pandas as pd\n",
    "import matplotlib.pyplot as plt\n",
    "plt.style.use(\"ggplot\")\n",
    "import seaborn as sns\n",
    "import numpy as np\n",
    "\n",
    "# from sklearn.model_selection import train_test_split\n",
    "from sklearn.preprocessing import StandardScaler\n",
    "from sklearn.metrics import accuracy_score, precision_score, recall_score, f1_score, confusion_matrix\n",
    "from sklearn.preprocessing import OneHotEncoder\n",
    "\n",
    "from Layers import Input, Dense\n",
    "from ANN import NeuralNetwork\n",
    "from loss_functions import mse, mse_prima\n",
    "from activationsFunctions import *"
   ]
  },
  {
   "cell_type": "code",
   "execution_count": 3,
   "metadata": {},
   "outputs": [
    {
     "data": {
      "text/plain": [
       "array([[-132],\n",
       "       [   0]])"
      ]
     },
     "execution_count": 3,
     "metadata": {},
     "output_type": "execute_result"
    }
   ],
   "source": [
    "x = np.array([[12],[1]])\n",
    "x.shape\n",
    "\n",
    "softmax_prima(x)"
   ]
  },
  {
   "cell_type": "markdown",
   "metadata": {},
   "source": [
    "Cargamos los datos de entrenamiento y de testeo."
   ]
  },
  {
   "cell_type": "code",
   "execution_count": 4,
   "metadata": {},
   "outputs": [
    {
     "name": "stdout",
     "output_type": "stream",
     "text": [
      "(87554, 188) (21892, 188)\n"
     ]
    }
   ],
   "source": [
    "train = pd.read_csv('dataset\\\\mitbih_train.csv', header=None)\n",
    "test = pd.read_csv('dataset\\\\mitbih_test.csv', header=None)\n",
    "\n",
    "print(train.shape, test.shape)"
   ]
  },
  {
   "cell_type": "markdown",
   "metadata": {},
   "source": [
    "Podemos ver que tenemos 87554 datos de entrenamiento y 21892 datos de testeo.\n",
    "\n",
    "Ahora bien, según el sitio que provee los datos, la última columna de los csv contienen las etiquetas correspondientes al tipo de latído cardíaco para una observación en particular.\n",
    "\n",
    "Los valores de las etiquetas y el tipo de latidos, son:\n",
    "\n",
    "- 0: \"Normal\",\n",
    "- 1: \"Artial Premature\",\n",
    "- 2: \"Premature ventricular contraction\",\n",
    "- 3: \"Fusion of ventricular and normal\",\n",
    "- 4: \"Fusion of paced and normal\": Los latidos de fusión ventricular pueden ocurrir cuando el ritmo natural del corazón y el impulso de un marcapasos coinciden para activar la misma parte de un ventrículo al mismo tiempo.\n",
    "\n",
    "Veamos cuantos datos de cada uno tenemos."
   ]
  },
  {
   "cell_type": "code",
   "execution_count": 5,
   "metadata": {},
   "outputs": [
    {
     "data": {
      "text/plain": [
       "187\n",
       "0.0    72471\n",
       "4.0     6431\n",
       "2.0     5788\n",
       "1.0     2223\n",
       "3.0      641\n",
       "Name: count, dtype: int64"
      ]
     },
     "execution_count": 5,
     "metadata": {},
     "output_type": "execute_result"
    }
   ],
   "source": [
    "train.iloc[:, 187].value_counts()"
   ]
  },
  {
   "cell_type": "code",
   "execution_count": 6,
   "metadata": {},
   "outputs": [
    {
     "data": {
      "text/plain": [
       "187\n",
       "0.0    18118\n",
       "4.0     1608\n",
       "2.0     1448\n",
       "1.0      556\n",
       "3.0      162\n",
       "Name: count, dtype: int64"
      ]
     },
     "execution_count": 6,
     "metadata": {},
     "output_type": "execute_result"
    }
   ],
   "source": [
    "test.iloc[:, 187].value_counts()"
   ]
  },
  {
   "cell_type": "markdown",
   "metadata": {},
   "source": [
    "La mayoría de los datos corresponden a latidos normales, seguidos por los latidos de fusión ventricular."
   ]
  },
  {
   "cell_type": "code",
   "execution_count": 7,
   "metadata": {},
   "outputs": [],
   "source": [
    "data_train, labels_train = train.iloc[:, :187].values, train.iloc[:, 187].values\n",
    "data_test, labels_test = test.iloc[:, :187].values, test.iloc[:, 187].values"
   ]
  },
  {
   "cell_type": "markdown",
   "metadata": {},
   "source": [
    "Vamos a generar una función para obtener los datos correspondientes a un sólo tipo de latido"
   ]
  },
  {
   "cell_type": "code",
   "execution_count": 8,
   "metadata": {},
   "outputs": [],
   "source": [
    "def getHeartbetType(samples, labels, type = 0):\n",
    "    \"\"\"\n",
    "    samples: numpy array 2D con los samples\n",
    "    labels: numpy array 1D con las etiquetas.\n",
    "    type: tipo de latido. Es un número entero. \n",
    "    \"\"\"\n",
    "    filter = labels == type\n",
    "\n",
    "    return samples[filter], labels[filter]"
   ]
  },
  {
   "cell_type": "code",
   "execution_count": 9,
   "metadata": {},
   "outputs": [],
   "source": [
    "normal_beats, _ = getHeartbetType(data_train, labels_train, type=0)\n",
    "fussion_beats, _ = getHeartbetType(data_train, labels_train, type=4)"
   ]
  },
  {
   "cell_type": "markdown",
   "metadata": {},
   "source": [
    "Vamos a graficar algunos latídos cardíacos normales."
   ]
  },
  {
   "cell_type": "code",
   "execution_count": 10,
   "metadata": {},
   "outputs": [
    {
     "data": {
      "image/png": "[encoded data removed]",
      "text/plain": [
       "<Figure size 1000x400 with 2 Axes>"
      ]
     },
     "metadata": {},
     "output_type": "display_data"
    }
   ],
   "source": [
    "fs = 360\n",
    "ejet = np.arange(0, data_train.shape[1])*1/fs\n",
    "index = [148, 140]\n",
    "# index = np.random.randint(0, data_train.shape[1], 2)\n",
    "\n",
    "fig, ax = plt.subplots(1, 2, sharey=True, figsize=(10, 4))\n",
    "ax[0].plot(ejet, data_train[index[0],:],label=f\"Caso {index[0]}\")\n",
    "ax[0].plot(ejet, data_train[index[1], :], label=f\"Caso {index[1]}\")\n",
    "ax[0].legend(shadow=True, frameon=True, facecolor=\"inherit\", loc=1, fontsize=9)\n",
    "ax[0].set_title(\"Latidos normales\")\n",
    "\n",
    "ax[1].plot(ejet, fussion_beats[index[0], :], label=f\"Caso {index[0]}\")\n",
    "ax[1].plot(ejet, fussion_beats[index[1], :], label=f\"Caso {index[1]}\")\n",
    "ax[1].legend(shadow=True, frameon=True, facecolor=\"inherit\", loc=1, fontsize=9)\n",
    "ax[1].set_title(\"Latidos anormales\")\n",
    "\n",
    "plt.tight_layout()\n",
    "plt.show()"
   ]
  },
  {
   "cell_type": "markdown",
   "metadata": {},
   "source": [
    "## Generando datos de entrenamiento y testeo\n",
    "\n",
    "Vamos a tomar los datos correspondientes a latidos normales y de fusión ventricular, es decir, etiquetas $0$ y $4$.\n",
    "\n",
    "Usaremos estas para entrenar una red y clasificar latidos normales vs enfermos."
   ]
  },
  {
   "cell_type": "code",
   "execution_count": 11,
   "metadata": {},
   "outputs": [],
   "source": [
    "##primero usamos getHeartbetType sobre los datos de entrenamiento y testeo\n",
    "\n",
    "normal_train_data, normal_train_labels = getHeartbetType(data_train, labels_train, type=0)\n",
    "normal_test_data, normal_test_labels = getHeartbetType(data_test, labels_test, type=0)\n",
    "\n",
    "anormal_train_data, anormal_train_labels = getHeartbetType(data_train, labels_train, type=4)\n",
    "anormal_test_data, anormal_test_labels = getHeartbetType(data_test, labels_test, type=4)\n",
    "\n",
    "##reemplazo los valores 4 por 1 en las etiquetas\n",
    "fussion_beats_train_labels = np.ones(anormal_train_labels.shape)\n",
    "fussion_beats_test_labels = np.ones(anormal_test_labels.shape)"
   ]
  },
  {
   "cell_type": "markdown",
   "metadata": {},
   "source": [
    "Ahora formo X_train, y_train, X_test e y_test concatenando los datos anteriores."
   ]
  },
  {
   "cell_type": "code",
   "execution_count": 12,
   "metadata": {},
   "outputs": [
    {
     "data": {
      "text/plain": [
       "array([[0.],\n",
       "       [0.],\n",
       "       [0.],\n",
       "       ...,\n",
       "       [1.],\n",
       "       [1.],\n",
       "       [1.]])"
      ]
     },
     "execution_count": 12,
     "metadata": {},
     "output_type": "execute_result"
    }
   ],
   "source": [
    "#Ahora formo X_train, y_train, X_test e y_test concatenando los datos anteriores.\n",
    "X_train = np.concatenate((normal_train_data, anormal_train_data))\n",
    "y_train = np.concatenate((normal_train_labels, fussion_beats_train_labels))\n",
    "y_train = y_train.reshape(-1, 1)\n",
    "X_test = np.concatenate((normal_test_data, anormal_test_data))\n",
    "y_test = np.concatenate((normal_test_labels, fussion_beats_test_labels))\n",
    "y_test = y_test.reshape(-1, 1)\n",
    "y_test"
   ]
  },
  {
   "cell_type": "markdown",
   "metadata": {},
   "source": [
    "### Normalizando los datos\n",
    "\n",
    "A continuación vamos a estandarizar los datos. Esto quiere decir, que haremos que nuestros datos tengan media 0 y desvío estándar 1.\n",
    "\n",
    "Utilizaremos el módulo [StandardScaler](https://scikit-learn.org/stable/modules/generated/sklearn.preprocessing.StandardScaler.html)."
   ]
  },
  {
   "cell_type": "code",
   "execution_count": 13,
   "metadata": {},
   "outputs": [],
   "source": [
    "##uso StandardScaler para standardizar los datos\n",
    "scaler = StandardScaler()\n",
    "scaler.fit(X_train)\n",
    "X_train = scaler.transform(X_train)"
   ]
  },
  {
   "cell_type": "code",
   "execution_count": 14,
   "metadata": {},
   "outputs": [
    {
     "data": {
      "text/plain": [
       "(np.float64(-0.0), np.float64(1.0))"
      ]
     },
     "execution_count": 14,
     "metadata": {},
     "output_type": "execute_result"
    }
   ],
   "source": [
    "np.round(X_train.mean(), 2), np.round(X_train.std(), 2)"
   ]
  },
  {
   "cell_type": "markdown",
   "metadata": {},
   "source": [
    "**IMPORTANTE**: La variable *scaler* contiene la media y el desvío estándar necesarios para ajustar nuevos datos. Estos valores han sido sacados de los datos de entrenamiento.\n",
    "\n",
    "Usaremos este scaler más adelante en nuestros datos de testeo."
   ]
  },
  {
   "cell_type": "markdown",
   "metadata": {},
   "source": [
    "## Generando nuestra red\n",
    "\n",
    "A continuación vamos a usar nuestra clase *ANN* para armar una red que nos permita clasificar latidos cardíacos."
   ]
  },
  {
   "cell_type": "markdown",
   "metadata": {},
   "source": [
    "La arquitectura de la red será:\n",
    "\n",
    "- Input Layer con 187 nodos.\n",
    "- Capa oculta 1 con 128 nodos.\n",
    "- Capa oculta 2 con 64 nodos.\n",
    "- Capa oculta 3 con 32 nodos.\n",
    "- Capa de salida con 1 nodo. "
   ]
  },
  {
   "cell_type": "code",
   "execution_count": 15,
   "metadata": {},
   "outputs": [],
   "source": [
    "input_layer = Input(n_neuronas=(187,))\n",
    "\n",
    "hidden_layer1 = Dense(ninputs=187, noutputs=128, activation=relu, activation_prima=relu_prima,\n",
    "                      weights_init=\"uniform\", bias_init=\"zeros\", name=\"DenseLayer1\",random_seed=0)\n",
    "\n",
    "hidden_layer2 = Dense(ninputs=128, noutputs=64, activation=relu, activation_prima=relu_prima,\n",
    "                      weights_init=\"uniform\", bias_init=\"zeros\", name=\"DenseLayer2\",random_seed=0)\n",
    "\n",
    "hidden_layer3 = Dense(ninputs=64, noutputs=32, activation=relu, activation_prima=relu_prima,\n",
    "                      weights_init=\"uniform\", bias_init=\"zeros\", name=\"DenseLayer3\",random_seed=0)\n",
    "\n",
    "output_layer = Dense(ninputs=32, noutputs=1, activation=sigmoid, activation_prima=sigmoid_prima,\n",
    "                     weights_init=\"uniform\", bias_init=\"zeros\", name=\"OutputLayer\",random_seed=0)\n",
    "\n",
    "layers = [input_layer,hidden_layer1,hidden_layer2,hidden_layer3,output_layer] ##lista con mis capas\n",
    "nn1 = NeuralNetwork(layers) ##creamos la red\n",
    "\n",
    "nn1.use(loss=mse, loss_prima=mse_prima) ##definimos la función de pérdida"
   ]
  },
  {
   "cell_type": "markdown",
   "metadata": {},
   "source": [
    "### Entrenando la red"
   ]
  },
  {
   "cell_type": "code",
   "execution_count": 16,
   "metadata": {},
   "outputs": [
    {
     "name": "stdout",
     "output_type": "stream",
     "text": [
      "Época 0, MSE: [5.90187161e-08]\n",
      "Época 10, MSE: [0.04545455]\n",
      "Época 20, MSE: [5.71893214e-07]\n",
      "Época 30, MSE: [2.62563066e-07]\n",
      "Época 40, MSE: [6.44867452e-07]\n",
      "Época 50, MSE: [3.28806189e-06]\n",
      "Época 60, MSE: [9.48407559e-07]\n"
     ]
    }
   ],
   "source": [
    "nn1.train(X_train, y_train, learning_rate=0.01, epochs=61, tolerancia=1e-3, imprimir_cada=10)"
   ]
  },
  {
   "cell_type": "code",
   "execution_count": 17,
   "metadata": {},
   "outputs": [],
   "source": [
    "data_clasificada = nn1.classify(scaler.transform(X_test))"
   ]
  },
  {
   "cell_type": "markdown",
   "metadata": {},
   "source": [
    "## Analizando la performance de la red"
   ]
  },
  {
   "cell_type": "code",
   "execution_count": 18,
   "metadata": {},
   "outputs": [
    {
     "name": "stdout",
     "output_type": "stream",
     "text": [
      "Accuracy: 0.99\n",
      "Precision: 0.99\n",
      "Recall: 0.94\n",
      "F1: 0.97\n"
     ]
    }
   ],
   "source": [
    "##metricas\n",
    "accuracy = accuracy_score(y_test, data_clasificada)\n",
    "precision = precision_score(y_test, data_clasificada)\n",
    "recall = recall_score(y_test, data_clasificada)\n",
    "f1 = f1_score(y_test, data_clasificada)\n",
    "\n",
    "print(f\"Accuracy: {accuracy:.2f}\")\n",
    "print(f\"Precision: {precision:.2f}\")\n",
    "print(f\"Recall: {recall:.2f}\")\n",
    "print(f\"F1: {f1:.2f}\")"
   ]
  },
  {
   "cell_type": "markdown",
   "metadata": {},
   "source": [
    "### Matriz de confusión"
   ]
  },
  {
   "cell_type": "code",
   "execution_count": 19,
   "metadata": {},
   "outputs": [
    {
     "name": "stdout",
     "output_type": "stream",
     "text": [
      "[[ 1519    89]\n",
      " [   20 18098]]\n",
      "[[0.987 0.005]\n",
      " [0.013 0.995]]\n"
     ]
    }
   ],
   "source": [
    "##matriz de confusión\n",
    "tp = np.sum((y_test==1) & (data_clasificada==1))\n",
    "tn = np.sum((y_test==0) & (data_clasificada==0))\n",
    "fp = np.sum((y_test==0) & (data_clasificada==1))\n",
    "fn = np.sum((y_test==1) & (data_clasificada==0))\n",
    "\n",
    "mc = np.array([[tp,fn],[fp,tn]])\n",
    "#normalizo la matriz de confusión. La normalización se hace dividiendo cada elemento por la suma de la columna\n",
    "mc_norm = mc/mc.sum(axis=0)\n",
    "\n",
    "print(mc)\n",
    "print(mc_norm.round(3)) "
   ]
  },
  {
   "cell_type": "code",
   "execution_count": 20,
   "metadata": {},
   "outputs": [
    {
     "data": {
      "image/png": "[encoded data removed]",
      "text/plain": [
       "<Figure size 600x600 with 2 Axes>"
      ]
     },
     "metadata": {},
     "output_type": "display_data"
    }
   ],
   "source": [
    "plt.figure(figsize=(6,6))\n",
    "sns.heatmap(mc_norm.round(3), annot=True, cmap='viridis', fmt='g')\n",
    "plt.xlabel('Real')\n",
    "plt.ylabel('Clasificado')\n",
    "plt.title('Matriz de confusión')\n",
    "plt.show() "
   ]
  },
  {
   "cell_type": "markdown",
   "metadata": {},
   "source": [
    "### Testeando la red para clasificación multiclase"
   ]
  },
  {
   "cell_type": "code",
   "execution_count": 21,
   "metadata": {},
   "outputs": [],
   "source": [
    "normal_X_train, normal_y_train = getHeartbetType(data_train, labels_train, type=0)\n",
    "fussion_X_train, fussion_y_train = getHeartbetType(data_train, labels_train, type=4)\n",
    "atrial_X_train, atrial_y_train = getHeartbetType(data_train, labels_train, type=2)\n",
    "\n",
    "##testeo\n",
    "normal_X_test, normal_y_test = getHeartbetType(data_test, labels_test, type=0)\n",
    "fussion_X_test, fussion_y_test = getHeartbetType(data_test, labels_test, type=4)\n",
    "atrial_X_test, atrial_y_test = getHeartbetType(data_test, labels_test, type=2)\n",
    "\n",
    "##uno los datos de entrenamiento\n",
    "X_train_multiclass = np.concatenate((normal_X_train, fussion_X_train, atrial_X_train))\n",
    "y_train_multilabel = np.concatenate((normal_y_train, fussion_y_train, atrial_y_train))\n",
    "y_train_multilabel = y_train_multilabel.reshape(-1, 1)\n",
    "##uno los datos de testeo\n",
    "X_test = np.concatenate((normal_X_test, fussion_X_test, atrial_X_test))\n",
    "y_test = np.concatenate((normal_y_test, fussion_y_test, atrial_y_test))\n",
    "y_test = y_test.reshape(-1, 1)\n",
    "\n",
    "##utilizo onehotencoder para codificar las etiquetas\n",
    "encoder = OneHotEncoder()\n",
    "y_train_multilabel = encoder.fit_transform(y_train_multilabel)\n",
    "\n",
    "##uso StandardScaler para standardizar los datos\n",
    "scaler = StandardScaler()\n",
    "scaler.fit(X_train_multiclass)\n",
    "\n",
    "X_train_multiclass = scaler.transform(X_train_multiclass)"
   ]
  },
  {
   "cell_type": "code",
   "execution_count": 22,
   "metadata": {},
   "outputs": [],
   "source": [
    "input_layer = Input(n_neuronas=(187,))\n",
    "\n",
    "hidden_layer1 = Dense(ninputs=187, noutputs=128, activation=relu, activation_prima=relu_prima,\n",
    "                      weights_init=\"uniform\", bias_init=\"zeros\", name=\"DenseLayer1\",random_seed=0)\n",
    "\n",
    "hidden_layer2 = Dense(ninputs=128, noutputs=64, activation=relu, activation_prima=relu_prima,\n",
    "                      weights_init=\"uniform\", bias_init=\"zeros\", name=\"DenseLayer2\",random_seed=0)\n",
    "\n",
    "hidden_layer3 = Dense(ninputs=64, noutputs=32, activation=relu, activation_prima=relu_prima,\n",
    "                      weights_init=\"uniform\", bias_init=\"zeros\", name=\"DenseLayer3\",random_seed=0)\n",
    "\n",
    "output_layer = Dense(ninputs=32, noutputs=3, activation=sigmoid, activation_prima=sigmoid_prima,\n",
    "                     weights_init=\"uniform\", bias_init=\"zeros\", name=\"OutputLayer\",random_seed=0)\n",
    "\n",
    "layers = [input_layer,hidden_layer1,hidden_layer2,hidden_layer3,output_layer] ##lista con mis capas\n",
    "nn2 = NeuralNetwork(layers) ##creamos la red\n",
    "\n",
    "nn2.use(loss=mse, loss_prima=mse_prima) ##definimos la función de pérdida"
   ]
  },
  {
   "cell_type": "code",
   "execution_count": 23,
   "metadata": {},
   "outputs": [
    {
     "name": "stdout",
     "output_type": "stream",
     "text": [
      "Época 0, MSE: [[1.66654144e-01 2.22222119e-01 1.08396127e-09]]\n",
      "Época 10, MSE: [[0.08918594 0.1113012  0.22222222]]\n",
      "Época 20, MSE: [[0.00030306 0.05556133 0.11111111]]\n",
      "Época 30, MSE: [[5.98819200e-04 1.33256336e-05 5.55555554e-02]]\n",
      "Época 40, MSE: [[0.00027734 0.00012644 0.05555556]]\n",
      "Época 50, MSE: [[9.80913131e-05 1.24491258e-03 1.11111111e-01]]\n",
      "Época 60, MSE: [[5.55554521e-02 5.55571375e-02 2.14266889e-11]]\n",
      "Época 70, MSE: [[5.53533459e-02 5.55524804e-02 4.44509424e-15]]\n",
      "Época 80, MSE: [[1.29501043e-02 1.34089668e-06 1.66666667e-01]]\n",
      "Época 90, MSE: [[5.42102499e-05 2.78624891e-08 1.11111113e-01]]\n"
     ]
    }
   ],
   "source": [
    "##entrenamos la red\n",
    "nn2.train(X_train_multiclass, y_train_multilabel, learning_rate=0.01, epochs=100, tolerancia=1e-3, imprimir_cada=10)"
   ]
  },
  {
   "cell_type": "code",
   "execution_count": 24,
   "metadata": {},
   "outputs": [],
   "source": [
    "##clasificamos\n",
    "data_clasificada = nn2.classify(scaler.transform(X_test))\n",
    "probas = nn2.predict(scaler.transform(X_test))"
   ]
  },
  {
   "cell_type": "code",
   "execution_count": 25,
   "metadata": {},
   "outputs": [
    {
     "data": {
      "text/plain": [
       "(1616,)"
      ]
     },
     "execution_count": 25,
     "metadata": {},
     "output_type": "execute_result"
    }
   ],
   "source": [
    "##me quedo con los indices de probas donde todos los elementos son ceros.\n",
    "##tener en cuenta que probas es un array de 3 columnas, una por cada muestra. Es decir, (muestras, 3)\n",
    "\n",
    "indices = np.where((data_clasificada == 0).all(axis=1))[0]\n",
    "indices.shape"
   ]
  },
  {
   "cell_type": "markdown",
   "metadata": {},
   "source": [
    "Tenemos $1616$ datos que no pudieron ser clasificados en ninguna de las tres clases. \n",
    "\n",
    "Veamos algunos valores de probabilidad obtenidos para esos casos."
   ]
  },
  {
   "cell_type": "code",
   "execution_count": 26,
   "metadata": {},
   "outputs": [
    {
     "data": {
      "text/plain": [
       "array([[0.4484, 0.    , 0.    ],\n",
       "       [0.0026, 0.2455, 0.    ],\n",
       "       [0.0803, 0.1277, 0.    ],\n",
       "       [0.2058, 0.    , 0.    ]])"
      ]
     },
     "execution_count": 26,
     "metadata": {},
     "output_type": "execute_result"
    }
   ],
   "source": [
    "np.round(probas[indices[:4]], 4)"
   ]
  },
  {
   "cell_type": "markdown",
   "metadata": {},
   "source": [
    "Si observamos lo anterior, vemos que los valores de retornados para cada clase están por debajo del umbral de clasificación.\n",
    "\n",
    "¿Qué podríamos hacer? En principio varias cosas, pero vamos a trabajar algunas.\n",
    "\n",
    "1. Tomar aquellas muestras que tengan todos ceros y eliminarlos de mis datos clasificados.\n",
    "2. Hacer $1$ la la columna que contenga el mayor valor para una muestra determinada.\n",
    "3. Combinación de 1 y 2.\n",
    "4. Cambiar la función de activación a la salida de la red.\n",
    "\n",
    "En este caso, usaremos la opción 1 por simplicidad."
   ]
  },
  {
   "cell_type": "code",
   "execution_count": 27,
   "metadata": {},
   "outputs": [
    {
     "data": {
      "text/plain": [
       "np.float64(0.13733510583904285)"
      ]
     },
     "execution_count": 27,
     "metadata": {},
     "output_type": "execute_result"
    }
   ],
   "source": [
    "##elimino los indices en data_clasificada y en y_test para poder comparar\n",
    "data_clasificada_filtrada = np.delete(data_clasificada, indices, axis=0)\n",
    "y_test_filtrada = np.delete(y_test, indices, axis=0)\n",
    "\n",
    "##decodifico data_clasificada_filtrada\n",
    "data_clasificada_filtrada = encoder.inverse_transform(data_clasificada_filtrada)\n",
    "data_clasificada_filtrada.mean()"
   ]
  },
  {
   "cell_type": "code",
   "execution_count": 28,
   "metadata": {},
   "outputs": [
    {
     "name": "stderr",
     "output_type": "stream",
     "text": [
      "C:\\Users\\corre\\AppData\\Local\\Temp\\ipykernel_4912\\2712315914.py:3: RuntimeWarning: invalid value encountered in divide\n",
      "  mc_norm = mc/mc.sum(axis=0)\n"
     ]
    }
   ],
   "source": [
    "##obtengo la matriz de confusión entre y_test_filtrada y data_clasificada_filtrada\n",
    "mc = confusion_matrix(y_test_filtrada, data_clasificada_filtrada)\n",
    "mc_norm = mc/mc.sum(axis=0)"
   ]
  },
  {
   "cell_type": "code",
   "execution_count": 29,
   "metadata": {},
   "outputs": [
    {
     "data": {
      "image/png": "[encoded data removed]",
      "text/plain": [
       "<Figure size 600x600 with 2 Axes>"
      ]
     },
     "metadata": {},
     "output_type": "display_data"
    }
   ],
   "source": [
    "##grafico la matriz de confusión\n",
    "plt.figure(figsize=(6,6))\n",
    "sns.heatmap(mc_norm.round(3), annot=True, cmap='viridis', fmt='g')\n",
    "plt.xlabel('Real')\n",
    "plt.ylabel('Clasificado')\n",
    "plt.title('Matriz de confusión')\n",
    "plt.show()"
   ]
  }
 ],
 "metadata": {
  "kernelspec": {
   "display_name": "pda",
   "language": "python",
   "name": "python3"
  },
  "language_info": {
   "codemirror_mode": {
    "name": "ipython",
    "version": 3
   },
   "file_extension": ".py",
   "mimetype": "text/x-python",
   "name": "python",
   "nbconvert_exporter": "python",
   "pygments_lexer": "ipython3",
   "version": "3.12.4"
  }
 },
 "nbformat": 4,
 "nbformat_minor": 2
}
